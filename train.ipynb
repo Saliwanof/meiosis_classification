{
 "cells": [
  {
   "cell_type": "code",
   "execution_count": 2,
   "metadata": {},
   "outputs": [],
   "source": [
    "from custom.datasets import Meiosis_Dataset\n",
    "from custom.models import Net"
   ]
  },
  {
   "cell_type": "code",
   "execution_count": 2,
   "metadata": {},
   "outputs": [],
   "source": [
    "# dataset = Meiosis_Dataset(path='../SC_figures', label={'leptotene', 'zygotene', 'pachytene_ab', 'pachytene_n'}, target=[0,0,0,0])"
   ]
  },
  {
   "cell_type": "code",
   "execution_count": 3,
   "metadata": {},
   "outputs": [],
   "source": [
    "dataset = Meiosis_Dataset(path='../SC_figures', label='zygotene', target=[0,0,0,0])"
   ]
  },
  {
   "cell_type": "code",
   "execution_count": 4,
   "metadata": {
    "collapsed": true
   },
   "outputs": [
    {
     "data": {
      "text/plain": [
       "(\n",
       " ( 0 ,.,.) = \n",
       "   0.2353  0.2392  0.2431  ...   0.0118  0.0118  0.0118\n",
       "   0.2392  0.2431  0.2431  ...   0.0078  0.0118  0.0118\n",
       "   0.2549  0.2431  0.2314  ...   0.0118  0.0118  0.0118\n",
       "            ...             ⋱             ...          \n",
       "   0.0078  0.0078  0.0118  ...   0.0902  0.0980  0.1020\n",
       "   0.0118  0.0078  0.0078  ...   0.0863  0.0941  0.1020\n",
       "   0.0118  0.0118  0.0078  ...   0.0902  0.0980  0.1059\n",
       " [torch.FloatTensor of size 1x224x224], \n",
       "  0\n",
       "  0\n",
       "  0\n",
       "  0\n",
       " [torch.FloatTensor of size 4])"
      ]
     },
     "execution_count": 4,
     "metadata": {},
     "output_type": "execute_result"
    }
   ],
   "source": [
    "dataset[43]"
   ]
  },
  {
   "cell_type": "code",
   "execution_count": 1,
   "metadata": {},
   "outputs": [],
   "source": [
    "model = Net(4, [32, 32, 64, 64])"
   ]
  }
 ],
 "metadata": {
  "kernelspec": {
   "display_name": "Python 3",
   "language": "python",
   "name": "python3"
  },
  "language_info": {
   "codemirror_mode": {
    "name": "ipython",
    "version": 3
   },
   "file_extension": ".py",
   "mimetype": "text/x-python",
   "name": "python",
   "nbconvert_exporter": "python",
   "pygments_lexer": "ipython3",
   "version": "3.6.4"
  }
 },
 "nbformat": 4,
 "nbformat_minor": 2
}
