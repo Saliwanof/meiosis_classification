{
 "cells": [
  {
   "cell_type": "code",
   "execution_count": 1,
   "metadata": {},
   "outputs": [],
   "source": [
    "from custom.datasets import Meiosis_Dataset\n",
    "from custom.models import Net_Period_Classification\n",
    "from custom.utils import accuracy, weight_balance, random_sample\n",
    "import torch\n",
    "import torch.nn.functional as F\n",
    "from torch.autograd import Variable\n",
    "from torch.utils.data import ConcatDataset, DataLoader\n",
    "from torch import optim\n",
    "import numpy as np\n",
    "from itertools import chain"
   ]
  },
  {
   "cell_type": "code",
   "execution_count": 2,
   "metadata": {},
   "outputs": [],
   "source": [
    "# dataset = Meiosis_Dataset(path='../SC_figures', label={'leptotene', 'zygotene', 'pachytene_ab', 'pachytene_n'}, target=[0,0,0,0])"
   ]
  },
  {
   "cell_type": "code",
   "execution_count": 3,
   "metadata": {},
   "outputs": [],
   "source": [
    "dataset_1 = Meiosis_Dataset(path='../SC_figures', label='zygotene', target=0)\n",
    "indicies_1, indicies_2 = random_sample(len(dataset_1), .9)\n",
    "dataset_1_t = Meiosis_Dataset(path='../SC_figures', label='zygotene', target=0)\n",
    "dataset_1_t.im_paths = [dataset_1_t.im_paths[index] for index in indicies_1]\n",
    "dataset_1_v = Meiosis_Dataset(path='../SC_figures', label='zygotene', target=0)\n",
    "dataset_1_v.im_paths = [dataset_1_v.im_paths[index] for index in indicies_2]\n",
    "\n",
    "dataset_2 = Meiosis_Dataset(path='../SC_figures', label='pachytene_ab', target=1)\n",
    "indicies_1, indicies_2 = random_sample(len(dataset_2), .9)\n",
    "dataset_2_t = Meiosis_Dataset(path='../SC_figures', label='pachytene_ab', target=1)\n",
    "dataset_2_t.im_paths = [dataset_2_t.im_paths[index] for index in indicies_1]\n",
    "dataset_2_v = Meiosis_Dataset(path='../SC_figures', label='pachytene_ab', target=1)\n",
    "dataset_2_v.im_paths = [dataset_2_v.im_paths[index] for index in indicies_2]\n",
    "\n",
    "dataset_3 = Meiosis_Dataset(path='../SC_figures', label='pachytene_n', target=1)\n",
    "indicies_1, indicies_2 = random_sample(len(dataset_3), .9)\n",
    "dataset_3_t = Meiosis_Dataset(path='../SC_figures', label='pachytene_n', target=1)\n",
    "dataset_3_t.im_paths = [dataset_3_t.im_paths[index] for index in indicies_1]\n",
    "dataset_3_v = Meiosis_Dataset(path='../SC_figures', label='pachytene_n', target=1)\n",
    "dataset_3_v.im_paths = [dataset_3_v.im_paths[index] for index in indicies_2]\n",
    "\n",
    "dataset_4 = Meiosis_Dataset(path='../SC_figures', label='leptotene', target=2)\n",
    "indicies_1, indicies_2 = random_sample(len(dataset_4), .9)\n",
    "dataset_4_t = Meiosis_Dataset(path='../SC_figures', label='leptotene', target=2)\n",
    "dataset_4_t.im_paths = [dataset_4_t.im_paths[index] for index in indicies_1]\n",
    "dataset_4_v = Meiosis_Dataset(path='../SC_figures', label='leptotene', target=2)\n",
    "dataset_4_v.im_paths = [dataset_4_v.im_paths[index] for index in indicies_2]\n",
    "\n",
    "dataset_t = ConcatDataset([dataset_1_t, \n",
    "                           dataset_2_t, \n",
    "                           dataset_3_t, \n",
    "                           dataset_4_t])\n",
    "train_loader = DataLoader(dataset_t, batch_size=64, shuffle=True)\n",
    "\n",
    "dataset_v = ConcatDataset([dataset_1_v, \n",
    "                           dataset_2_v, \n",
    "                           dataset_3_v, \n",
    "                           dataset_4_v])\n",
    "val_loader = DataLoader(dataset_v, batch_size=8)"
   ]
  },
  {
   "cell_type": "code",
   "execution_count": 4,
   "metadata": {},
   "outputs": [
    {
     "name": "stdout",
     "output_type": "stream",
     "text": [
      "487 377 627 46 1366\n",
      "\n",
      " 0.7890\n",
      " 1.0192\n",
      " 0.6128\n",
      " 2.0883\n",
      "[torch.FloatTensor of size 4]\n",
      "\n"
     ]
    }
   ],
   "source": [
    "print(len(dataset_1), len(dataset_2), len(dataset_3), len(dataset_4), len(dataset_t))\n",
    "weights = weight_balance([len(dataset_1),\n",
    "                          len(dataset_2),\n",
    "                          len(dataset_3),\n",
    "                          len(dataset_4)])\n",
    "weights = torch.FloatTensor(weights)\n",
    "weights[3] = weights[3] / 4.\n",
    "print(weights)"
   ]
  },
  {
   "cell_type": "code",
   "execution_count": 5,
   "metadata": {},
   "outputs": [],
   "source": [
    "state_dict = torch.load('./models/period_classification_4_with_ab')"
   ]
  },
  {
   "cell_type": "code",
   "execution_count": 6,
   "metadata": {
    "scrolled": true
   },
   "outputs": [
    {
     "data": {
      "text/plain": [
       "Net_Period_Classification(\n",
       "  (conv1a): conv_bn(\n",
       "    (conv): Conv2d(1, 32, kernel_size=(3, 3), stride=(1, 1), padding=(2, 2), dilation=(2, 2))\n",
       "    (bn): BatchNorm2d(32, eps=1e-05, momentum=0.1, affine=True)\n",
       "  )\n",
       "  (conv1b): conv_bn(\n",
       "    (conv): Conv2d(32, 32, kernel_size=(3, 3), stride=(1, 1), padding=(2, 2), dilation=(2, 2))\n",
       "    (bn): BatchNorm2d(32, eps=1e-05, momentum=0.1, affine=True)\n",
       "  )\n",
       "  (conv2): inception_v2(\n",
       "    (conv3a): Conv2d(32, 64, kernel_size=(1, 1), stride=(1, 1))\n",
       "    (conv3b): Conv2d(64, 64, kernel_size=(3, 3), stride=(1, 1), padding=(1, 1))\n",
       "    (conv5a): Conv2d(32, 64, kernel_size=(1, 1), stride=(1, 1))\n",
       "    (conv5b): Conv2d(64, 64, kernel_size=(3, 3), stride=(1, 1), padding=(1, 1))\n",
       "    (conv5c): Conv2d(64, 64, kernel_size=(3, 3), stride=(1, 1), padding=(1, 1))\n",
       "    (conv7a): Conv2d(32, 64, kernel_size=(1, 1), stride=(1, 1))\n",
       "    (conv7b): Conv2d(64, 64, kernel_size=(3, 3), stride=(1, 1), padding=(1, 1))\n",
       "    (conv7c): Conv2d(64, 64, kernel_size=(3, 3), stride=(1, 1), padding=(1, 1))\n",
       "    (conv7d): Conv2d(64, 64, kernel_size=(3, 3), stride=(1, 1), padding=(1, 1))\n",
       "    (norm): BatchNorm2d(192, eps=1e-05, momentum=0.1, affine=True)\n",
       "  )\n",
       "  (conv3): inception_v2(\n",
       "    (conv3a): Conv2d(192, 64, kernel_size=(1, 1), stride=(1, 1))\n",
       "    (conv3b): Conv2d(64, 64, kernel_size=(3, 3), stride=(1, 1), padding=(1, 1))\n",
       "    (conv5a): Conv2d(192, 64, kernel_size=(1, 1), stride=(1, 1))\n",
       "    (conv5b): Conv2d(64, 64, kernel_size=(3, 3), stride=(1, 1), padding=(1, 1))\n",
       "    (conv5c): Conv2d(64, 64, kernel_size=(3, 3), stride=(1, 1), padding=(1, 1))\n",
       "    (conv7a): Conv2d(192, 64, kernel_size=(1, 1), stride=(1, 1))\n",
       "    (conv7b): Conv2d(64, 64, kernel_size=(3, 3), stride=(1, 1), padding=(1, 1))\n",
       "    (conv7c): Conv2d(64, 64, kernel_size=(3, 3), stride=(1, 1), padding=(1, 1))\n",
       "    (conv7d): Conv2d(64, 64, kernel_size=(3, 3), stride=(1, 1), padding=(1, 1))\n",
       "    (norm): BatchNorm2d(192, eps=1e-05, momentum=0.1, affine=True)\n",
       "  )\n",
       "  (conv4): inception_v2(\n",
       "    (conv3a): Conv2d(192, 64, kernel_size=(1, 1), stride=(1, 1))\n",
       "    (conv3b): Conv2d(64, 64, kernel_size=(3, 3), stride=(1, 1), padding=(1, 1))\n",
       "    (conv5a): Conv2d(192, 64, kernel_size=(1, 1), stride=(1, 1))\n",
       "    (conv5b): Conv2d(64, 64, kernel_size=(3, 3), stride=(1, 1), padding=(1, 1))\n",
       "    (conv5c): Conv2d(64, 64, kernel_size=(3, 3), stride=(1, 1), padding=(1, 1))\n",
       "    (conv7a): Conv2d(192, 64, kernel_size=(1, 1), stride=(1, 1))\n",
       "    (conv7b): Conv2d(64, 64, kernel_size=(3, 3), stride=(1, 1), padding=(1, 1))\n",
       "    (conv7c): Conv2d(64, 64, kernel_size=(3, 3), stride=(1, 1), padding=(1, 1))\n",
       "    (conv7d): Conv2d(64, 64, kernel_size=(3, 3), stride=(1, 1), padding=(1, 1))\n",
       "    (norm): BatchNorm2d(192, eps=1e-05, momentum=0.1, affine=True)\n",
       "  )\n",
       "  (conv5): Conv2d(192, 16, kernel_size=(1, 1), stride=(1, 1))\n",
       "  (mlp1): Linear(in_features=784, out_features=64, bias=True)\n",
       "  (mlp2): Linear(in_features=64, out_features=64, bias=True)\n",
       "  (mlp3): Linear(in_features=64, out_features=4, bias=True)\n",
       ")"
      ]
     },
     "execution_count": 6,
     "metadata": {},
     "output_type": "execute_result"
    }
   ],
   "source": [
    "model = Net_Period_Classification(4)\n",
    "model.cuda()"
   ]
  },
  {
   "cell_type": "code",
   "execution_count": 7,
   "metadata": {},
   "outputs": [],
   "source": [
    "'''\n",
    "model.conv1a.load_state_dict(state_dict, False)\n",
    "model.conv1b.load_state_dict(state_dict, False)\n",
    "model.conv2.load_state_dict(state_dict, False)\n",
    "model.conv3.load_state_dict(state_dict, False)\n",
    "model.conv4.load_state_dict(state_dict, False)\n",
    "model.conv5.load_state_dict(state_dict, False)\n",
    "para_to_update = chain(model.mlp1.parameters(), model.mlp2.parameters(), model.mlp3.parameters(), model.mlp4.parameters(), model.mlp5.parameters())\n",
    "'''\n",
    "\n",
    "model.load_state_dict(state_dict)"
   ]
  },
  {
   "cell_type": "code",
   "execution_count": 8,
   "metadata": {},
   "outputs": [],
   "source": [
    "para_to_update = model.parameters()\n",
    "optimizer = optim.Adam(para_to_update, lr=1e-3)\n",
    "# optimizer = optim.SGD(model.parameters(), lr=1e-4, momentum=0.9)"
   ]
  },
  {
   "cell_type": "code",
   "execution_count": 9,
   "metadata": {},
   "outputs": [],
   "source": [
    "loss_func = F.cross_entropy"
   ]
  },
  {
   "cell_type": "code",
   "execution_count": 10,
   "metadata": {},
   "outputs": [],
   "source": [
    "def train(epoch):\n",
    "    model.train()\n",
    "    train_loss = 0\n",
    "    acc = 0\n",
    "    for batch_idx, (im, target) in enumerate(train_loader):\n",
    "        input, target, weight = Variable(im).cuda(0), Variable(target.squeeze_()).cuda(0), Variable(weights).cuda(0)\n",
    "        optimizer.zero_grad()\n",
    "        output, _ = model(input)\n",
    "        loss = loss_func(output, target, weight)\n",
    "        loss.backward()\n",
    "        acc += accuracy(output, target).data[0]\n",
    "        train_loss += loss.data[0]\n",
    "        optimizer.step()\n",
    "        \n",
    "    print('====> Epoch: {}t Average loss: {:.4f} Average acc: {:.3f}'.format(\n",
    "          epoch, train_loss / len(train_loader), acc / len(train_loader)))"
   ]
  },
  {
   "cell_type": "code",
   "execution_count": 11,
   "metadata": {},
   "outputs": [],
   "source": [
    "from torchvision.utils import save_image\n",
    "from torch.nn.functional import threshold\n",
    "def test(epoch):\n",
    "    model.eval()\n",
    "    test_loss = 0\n",
    "    acc = 0\n",
    "    for i, (im, target) in enumerate(val_loader):\n",
    "        input, target, weight = Variable(im).cuda(0), Variable(target.squeeze_()).cuda(0), Variable(weights).cuda(0)\n",
    "        output, _ = model(input)\n",
    "        loss = loss_func(output, target, weight)\n",
    "        acc += accuracy(output, target).data[0]\n",
    "        test_loss += loss.data[0]\n",
    "        \n",
    "    print('====> Epoch: {}v Average loss: {:.4f} Average acc: {:.3f}'.format(\n",
    "          epoch, test_loss / len(val_loader), acc / len(val_loader)))"
   ]
  },
  {
   "cell_type": "code",
   "execution_count": null,
   "metadata": {
    "scrolled": true
   },
   "outputs": [
    {
     "name": "stdout",
     "output_type": "stream",
     "text": [
      "====> Epoch: 0t Average loss: 0.4545 Average acc: 0.794\n"
     ]
    },
    {
     "name": "stderr",
     "output_type": "stream",
     "text": [
      "/usr/local/anaconda3/lib/python3.6/site-packages/skimage/morphology/misc.py:122: UserWarning: Only one label was provided to `remove_small_objects`. Did you mean to use a boolean array?\n",
      "  warn(\"Only one label was provided to `remove_small_objects`. \"\n"
     ]
    },
    {
     "name": "stdout",
     "output_type": "stream",
     "text": [
      "====> Epoch: 0v Average loss: 0.5124 Average acc: 0.775\n",
      "====> Epoch: 1t Average loss: 0.4636 Average acc: 0.769\n",
      "====> Epoch: 1v Average loss: 0.4884 Average acc: 0.799\n",
      "====> Epoch: 2t Average loss: 0.4616 Average acc: 0.776\n",
      "====> Epoch: 2v Average loss: 0.5769 Average acc: 0.758\n",
      "====> Epoch: 3t Average loss: 0.4784 Average acc: 0.776\n",
      "====> Epoch: 3v Average loss: 0.4813 Average acc: 0.803\n",
      "====> Epoch: 4t Average loss: 0.4500 Average acc: 0.790\n",
      "====> Epoch: 4v Average loss: 0.5623 Average acc: 0.775\n",
      "====> Epoch: 5t Average loss: 0.4393 Average acc: 0.789\n",
      "====> Epoch: 5v Average loss: 0.5354 Average acc: 0.792\n",
      "====> Epoch: 6t Average loss: 0.4577 Average acc: 0.778\n",
      "====> Epoch: 6v Average loss: 0.5432 Average acc: 0.794\n",
      "====> Epoch: 7t Average loss: 0.4461 Average acc: 0.799\n",
      "====> Epoch: 7v Average loss: 0.5532 Average acc: 0.775\n",
      "====> Epoch: 8t Average loss: 0.4320 Average acc: 0.787\n",
      "====> Epoch: 8v Average loss: 0.5348 Average acc: 0.803\n",
      "====> Epoch: 9t Average loss: 0.4331 Average acc: 0.782\n",
      "====> Epoch: 9v Average loss: 0.5341 Average acc: 0.775\n",
      "====> Epoch: 10t Average loss: 0.4324 Average acc: 0.797\n",
      "====> Epoch: 10v Average loss: 0.5344 Average acc: 0.792\n",
      "====> Epoch: 11t Average loss: 0.4287 Average acc: 0.785\n",
      "====> Epoch: 11v Average loss: 0.5155 Average acc: 0.792\n",
      "====> Epoch: 12t Average loss: 0.4242 Average acc: 0.801\n",
      "====> Epoch: 12v Average loss: 0.5315 Average acc: 0.769\n",
      "====> Epoch: 13t Average loss: 0.4334 Average acc: 0.806\n",
      "====> Epoch: 13v Average loss: 0.5017 Average acc: 0.782\n",
      "====> Epoch: 14t Average loss: 0.4396 Average acc: 0.800\n",
      "====> Epoch: 14v Average loss: 0.5463 Average acc: 0.775\n",
      "====> Epoch: 15t Average loss: 0.4111 Average acc: 0.808\n",
      "====> Epoch: 15v Average loss: 0.6298 Average acc: 0.797\n",
      "====> Epoch: 16t Average loss: 0.4146 Average acc: 0.809\n",
      "====> Epoch: 16v Average loss: 0.5806 Average acc: 0.763\n",
      "====> Epoch: 17t Average loss: 0.4544 Average acc: 0.784\n",
      "====> Epoch: 17v Average loss: 0.4915 Average acc: 0.775\n",
      "====> Epoch: 18t Average loss: 0.4584 Average acc: 0.784\n",
      "====> Epoch: 18v Average loss: 0.5062 Average acc: 0.786\n",
      "====> Epoch: 19t Average loss: 0.4055 Average acc: 0.803\n",
      "====> Epoch: 19v Average loss: 0.6078 Average acc: 0.769\n",
      "====> Epoch: 20t Average loss: 0.4195 Average acc: 0.803\n",
      "====> Epoch: 20v Average loss: 0.5273 Average acc: 0.775\n",
      "====> Epoch: 21t Average loss: 0.4258 Average acc: 0.799\n",
      "====> Epoch: 21v Average loss: 0.5233 Average acc: 0.767\n",
      "====> Epoch: 22t Average loss: 0.4102 Average acc: 0.819\n",
      "====> Epoch: 22v Average loss: 0.5303 Average acc: 0.769\n",
      "====> Epoch: 23t Average loss: 0.4212 Average acc: 0.798\n",
      "====> Epoch: 23v Average loss: 0.5762 Average acc: 0.778\n",
      "====> Epoch: 24t Average loss: 0.4123 Average acc: 0.791\n",
      "====> Epoch: 24v Average loss: 0.5811 Average acc: 0.752\n",
      "====> Epoch: 25t Average loss: 0.4309 Average acc: 0.799\n",
      "====> Epoch: 25v Average loss: 0.5515 Average acc: 0.786\n",
      "====> Epoch: 26t Average loss: 0.4172 Average acc: 0.802\n",
      "====> Epoch: 26v Average loss: 0.4850 Average acc: 0.786\n",
      "====> Epoch: 27t Average loss: 0.3972 Average acc: 0.814\n",
      "====> Epoch: 27v Average loss: 0.4979 Average acc: 0.769\n",
      "====> Epoch: 28t Average loss: 0.3943 Average acc: 0.814\n",
      "====> Epoch: 28v Average loss: 0.5588 Average acc: 0.792\n",
      "====> Epoch: 29t Average loss: 0.4297 Average acc: 0.798\n",
      "====> Epoch: 29v Average loss: 0.5029 Average acc: 0.792\n"
     ]
    }
   ],
   "source": [
    "for epoch in range(101):\n",
    "    train(epoch)\n",
    "    test(epoch)\n",
    "    "
   ]
  },
  {
   "cell_type": "code",
   "execution_count": 13,
   "metadata": {},
   "outputs": [],
   "source": [
    "torch.save(model.state_dict(), './models/period_classification_4_with_ab')"
   ]
  }
 ],
 "metadata": {
  "kernelspec": {
   "display_name": "Python [default]",
   "language": "python",
   "name": "python3"
  },
  "language_info": {
   "codemirror_mode": {
    "name": "ipython",
    "version": 3
   },
   "file_extension": ".py",
   "mimetype": "text/x-python",
   "name": "python",
   "nbconvert_exporter": "python",
   "pygments_lexer": "ipython3",
   "version": "3.6.4"
  }
 },
 "nbformat": 4,
 "nbformat_minor": 2
}
